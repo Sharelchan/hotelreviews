{
 "cells": [
  {
   "cell_type": "code",
   "execution_count": null,
   "metadata": {},
   "outputs": [],
   "source": [
    "import requests\n",
    "from bs4 import BeautifulSoup\n",
    "from selenium import webdriver\n",
    "from selenium.webdriver.chrome.service import Service\n",
    "from selenium.webdriver.common.by import By\n",
    "import time\n",
    "import csv\n",
    "import pandas as pd"
   ]
  },
  {
   "cell_type": "code",
   "execution_count": null,
   "metadata": {},
   "outputs": [],
   "source": [
    "# Initialize the Chrome browser\n",
    "service = Service(executable_path='C:\\\\Users\\\\Sharel_Chan\\\\OneDrive - Dell Technologies\\\\Desktop\\\\Data_science\\\\sem2\\\\Week1\\\\chromedriver.exe')\n",
    "driver = webdriver.Chrome(service=service)\n",
    "driver.get(\"https://www.agoda.com/city/penang-my.html?ds=rOmg6xzOh7a3U496\")\n",
    "htmlSource = driver.page_source\n",
    "# Allow time for the page to load \n",
    "time.sleep(5)"
   ]
  },
  {
   "cell_type": "code",
   "execution_count": null,
   "metadata": {},
   "outputs": [],
   "source": [
    "soup = BeautifulSoup(htmlSource, 'html.parser')\n",
    "hotel = []\n",
    "\n",
    "for name in soup.find_all('div',{'class':'DatelessPropertyCard__ContentHeader'}):\n",
    "    hotel.append(name.text.strip())\n",
    "\n",
    "hotel"
   ]
  },
  {
   "cell_type": "code",
   "execution_count": null,
   "metadata": {},
   "outputs": [],
   "source": [
    "reviews = []\n",
    "for review in soup.findAll('div',{'class':'DatelessPropertyCard__ContentDetail DatelessPropertyCard__ContentDetail--showDots'}):\n",
    "  reviews.append(review.text.strip())\n",
    "reviews"
   ]
  },
  {
   "cell_type": "code",
   "execution_count": null,
   "metadata": {},
   "outputs": [],
   "source": [
    "ratings = []\n",
    "for rating in soup.findAll('p',{'class':'Paragraphstyled__ParagraphStyled-sc-180znkb-0 cSMGMv kite-js-Paragraph'}):\n",
    "  ratings.append(rating.text.strip())\n",
    "ratings"
   ]
  },
  {
   "cell_type": "code",
   "execution_count": null,
   "metadata": {},
   "outputs": [],
   "source": [
    "<div class=\"Box-sc-kv6pi1-0 gbOjPM DatelessPropertyCard__AdditionalPriceCurrency\" style=\"direction: ltr;\">RM 355</div>"
   ]
  },
  {
   "cell_type": "code",
   "execution_count": null,
   "metadata": {},
   "outputs": [],
   "source": [
    "price = []\n",
    "\n",
    "for p in soup.findAll('div', {'class': 'Box-sc-kv6pi1-0 gbOjPM DatelessPropertyCard__AdditionalPriceCurrency'}):\n",
    "    price.append(p.text.strip())\n",
    "\n",
    "price"
   ]
  },
  {
   "cell_type": "code",
   "execution_count": null,
   "metadata": {},
   "outputs": [],
   "source": [
    "d1 = {'Hotel':hotel,'Price':price,'rating':ratings}\n",
    "df = pd.DataFrame.from_dict(d1)\n",
    "df"
   ]
  },
  {
   "cell_type": "code",
   "execution_count": null,
   "metadata": {},
   "outputs": [],
   "source": [
    "\n",
    "soup = BeautifulSoup(htmlSource, 'html.parser')\n",
    "all_hotel_data = []\n",
    "\n",
    "for y in soup.find_all('div', {'class': 'pmRuN _T'}):\n",
    "    hotel_name = y.find('div', {'class': 'jsTLT K'})\n",
    "    hotel_price = y.find('span', {'class': 'kEOGy f'})\n",
    "    \n",
    "    if hotel_name and hotel_price:  # Check if both elements are found\n",
    "        price_text = hotel_price.get_text(strip=True).replace('RM', '').strip()\n",
    "        all_hotel_data.append({\"hotel_name\": hotel_name.get_text(strip=True), \"price\": float(price_text)})\n",
    "\n",
    "print(all_hotel_data)"
   ]
  },
  {
   "cell_type": "code",
   "execution_count": null,
   "metadata": {},
   "outputs": [],
   "source": [
    "# Extract hotel names and prices from all pages\n",
    "all_hotel_data = []\n",
    "while True:\n",
    "    hotel_list = driver.find_elements(By.CLASS_NAME, 'pmRuN _T')\n",
    "    for hotel in hotel_list:\n",
    "        hotel_name = hotel.find_element(By.CLASS_NAME, 'jsTLT K').text.strip()\n",
    "        try:\n",
    "            price = hotel.find_element(By.CLASS_NAME, 'kEOGy f').text.strip()\n",
    "        except:\n",
    "            price = 'Not available'\n",
    "        all_hotel_data.append({'Hotel Name': hotel_name, 'Price': price})\n",
    "    \n",
    "  \n",
    "# Save data to CSV file using Pandas\n",
    "df = pd.DataFrame(all_hotel_data)\n",
    "csv_file_path = 'kuala_lumpur_hotels_pandas.csv'\n",
    "df.to_csv(csv_file_path, index=False, encoding='utf-8')\n",
    "\n",
    "# Print a message indicating successful CSV file creation\n",
    "print(f\"Data saved to {csv_file_path}\")"
   ]
  }
 ],
 "metadata": {
  "language_info": {
   "name": "python"
  }
 },
 "nbformat": 4,
 "nbformat_minor": 2
}
